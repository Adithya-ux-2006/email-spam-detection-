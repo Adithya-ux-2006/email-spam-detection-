{
 "cells": [
  {
   "cell_type": "code",
   "id": "initial_id",
   "metadata": {
    "collapsed": true,
    "ExecuteTime": {
     "end_time": "2025-07-01T05:49:48.467746Z",
     "start_time": "2025-07-01T05:49:47.865959Z"
    }
   },
   "source": [
    "# Step 1: Import libraries\n",
    "import pandas as pd\n",
    "from sklearn.feature_extraction.text import CountVectorizer\n",
    "from sklearn.model_selection import train_test_split\n",
    "from sklearn.linear_model import LogisticRegression\n",
    "from sklearn.metrics import accuracy_score, classification_report, confusion_matrix\n",
    "import seaborn as sns\n",
    "import matplotlib.pyplot as plt\n"
   ],
   "outputs": [],
   "execution_count": 1
  },
  {
   "metadata": {
    "ExecuteTime": {
     "end_time": "2025-07-01T05:50:18.844768Z",
     "start_time": "2025-07-01T05:50:18.780209Z"
    }
   },
   "cell_type": "code",
   "source": [
    "# Step 2: Load the uploaded dataset\n",
    "data = pd.read_csv('spam.csv', encoding='latin-1')\n",
    "\n",
    "# Step 3: Keep only the first two columns\n",
    "data = data.iloc[:, :2]\n",
    "data.columns = ['label', 'text']\n",
    "\n"
   ],
   "id": "7b1e3a8db74b3ca0",
   "outputs": [],
   "execution_count": 3
  },
  {
   "metadata": {
    "ExecuteTime": {
     "end_time": "2025-07-01T05:50:33.933966Z",
     "start_time": "2025-07-01T05:50:33.906566Z"
    }
   },
   "cell_type": "code",
   "source": [
    "# Step 4: Drop missing or empty text entries\n",
    "data.dropna(subset=['label', 'text'], inplace=True)\n",
    "data['text'] = data['text'].astype(str)\n",
    "data = data[data['text'].str.strip() != '']\n"
   ],
   "id": "4076ed2a753e51f5",
   "outputs": [],
   "execution_count": 4
  },
  {
   "metadata": {
    "ExecuteTime": {
     "end_time": "2025-07-01T05:50:53.590927Z",
     "start_time": "2025-07-01T05:50:53.575253Z"
    }
   },
   "cell_type": "code",
   "source": [
    "# Step 5: Map labels\n",
    "data['label'] = data['label'].map({'ham': 0, 'spam': 1})\n",
    "data.dropna(subset=['label'], inplace=True)  # drop if mapping failed\n"
   ],
   "id": "d1e5cf83b31df15f",
   "outputs": [],
   "execution_count": 5
  },
  {
   "metadata": {
    "ExecuteTime": {
     "end_time": "2025-07-01T05:51:15.452287Z",
     "start_time": "2025-07-01T05:51:15.438611Z"
    }
   },
   "cell_type": "code",
   "source": [
    "print(data['text'].head())\n",
    "print(\"Remaining nulls:\\n\", data.isnull().sum())\n",
    "\n"
   ],
   "id": "6d63826e8d973a76",
   "outputs": [
    {
     "name": "stdout",
     "output_type": "stream",
     "text": [
      "0    Go until jurong point, crazy.. Available only ...\n",
      "1                        Ok lar... Joking wif u oni...\n",
      "2    Free entry in 2 a wkly comp to win FA Cup fina...\n",
      "3    U dun say so early hor... U c already then say...\n",
      "4    Nah I don't think he goes to usf, he lives aro...\n",
      "Name: text, dtype: object\n",
      "Remaining nulls:\n",
      " label    0\n",
      "text     0\n",
      "dtype: int64\n"
     ]
    }
   ],
   "execution_count": 6
  },
  {
   "metadata": {
    "ExecuteTime": {
     "end_time": "2025-07-01T05:51:34.536577Z",
     "start_time": "2025-07-01T05:51:34.320844Z"
    }
   },
   "cell_type": "code",
   "source": [
    "vectorizer = CountVectorizer(stop_words='english')\n",
    "X = vectorizer.fit_transform(data['text'])  # 🔥 This should work now\n",
    "y = data['label']\n"
   ],
   "id": "3aa6d9d6d169e82",
   "outputs": [],
   "execution_count": 7
  },
  {
   "metadata": {
    "ExecuteTime": {
     "end_time": "2025-07-01T05:51:48.170474Z",
     "start_time": "2025-07-01T05:51:48.046571Z"
    }
   },
   "cell_type": "code",
   "source": [
    "X_train, X_test, y_train, y_test = train_test_split(X, y, test_size=0.25, random_state=42)\n",
    "model = LogisticRegression()\n",
    "model.fit(X_train, y_train)\n",
    "y_pred = model.predict(X_test)\n",
    "\n",
    "print(\"Accuracy:\", accuracy_score(y_test, y_pred))\n",
    "print(\"Classification Report:\\n\", classification_report(y_test, y_pred))\n"
   ],
   "id": "69bddb22244ad7fb",
   "outputs": [
    {
     "name": "stdout",
     "output_type": "stream",
     "text": [
      "Accuracy: 0.9820531227566404\n",
      "Classification Report:\n",
      "               precision    recall  f1-score   support\n",
      "\n",
      "           0       0.98      1.00      0.99      1207\n",
      "           1       1.00      0.87      0.93       186\n",
      "\n",
      "    accuracy                           0.98      1393\n",
      "   macro avg       0.99      0.93      0.96      1393\n",
      "weighted avg       0.98      0.98      0.98      1393\n",
      "\n"
     ]
    }
   ],
   "execution_count": 8
  },
  {
   "metadata": {
    "ExecuteTime": {
     "end_time": "2025-07-01T05:52:04.576626Z",
     "start_time": "2025-07-01T05:52:03.486991Z"
    }
   },
   "cell_type": "code",
   "source": [
    "cm = confusion_matrix(y_test, y_pred)\n",
    "sns.heatmap(cm, annot=True, fmt='d', cmap='Blues', xticklabels=['Ham', 'Spam'], yticklabels=['Ham', 'Spam'])\n",
    "plt.xlabel('Predicted')\n",
    "plt.ylabel('Actual')\n",
    "plt.title('Confusion Matrix')\n",
    "plt.show()\n"
   ],
   "id": "9b17d5a1a0bde28d",
   "outputs": [
    {
     "data": {
      "text/plain": [
       "<Figure size 640x480 with 2 Axes>"
      ],
      "image/png": "[encoded data removed]"
     },
     "metadata": {},
     "output_type": "display_data"
    }
   ],
   "execution_count": 9
  },
  {
   "metadata": {},
   "cell_type": "code",
   "outputs": [],
   "execution_count": null,
   "source": "",
   "id": "1842021aa97b9c16"
  }
 ],
 "metadata": {
  "kernelspec": {
   "display_name": "Python 3",
   "language": "python",
   "name": "python3"
  },
  "language_info": {
   "codemirror_mode": {
    "name": "ipython",
    "version": 2
   },
   "file_extension": ".py",
   "mimetype": "text/x-python",
   "name": "python",
   "nbconvert_exporter": "python",
   "pygments_lexer": "ipython2",
   "version": "2.7.6"
  }
 },
 "nbformat": 4,
 "nbformat_minor": 5
}
